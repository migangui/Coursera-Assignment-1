{
 "cells": [
  {
   "cell_type": "markdown",
   "id": "cc28a2ac-c45b-456e-a9c5-ae3fc83edb9e",
   "metadata": {},
   "source": [
    "<h1>My Jupyter Notebook on IBM Watson Studio</h1>"
   ]
  },
  {
   "cell_type": "markdown",
   "id": "b9ce41e1-5e56-4c30-9993-6f2994bb7fb6",
   "metadata": {},
   "source": [
    "**Miguel Guillen**\n",
    "<br>Current Title: Labor Analyst"
   ]
  },
  {
   "cell_type": "markdown",
   "id": "9df65e42-2f26-42ba-8e9d-dc224d4b73cc",
   "metadata": {},
   "source": [
    "*I am interested in data science to enhance my skills from standard data analytics towards predictive modeling and machine learning. Since the start of the COVID-19 pandemic, my industry has been hit with severe labor issues and the need for forecast-based scheduling and labor standards has grown.*"
   ]
  },
  {
   "cell_type": "markdown",
   "id": "dc3c1509-a206-4b7e-8834-47dacaf0a8d0",
   "metadata": {},
   "source": [
    "<h3>The code below will multiply 5 x 5</h3>"
   ]
  },
  {
   "cell_type": "code",
   "execution_count": 2,
   "id": "71ee6373-1dc0-4b46-805d-b7ebd385b43c",
   "metadata": {},
   "outputs": [
    {
     "data": {
      "text/plain": [
       "25"
      ]
     },
     "execution_count": 2,
     "metadata": {},
     "output_type": "execute_result"
    }
   ],
   "source": [
    "5*5"
   ]
  },
  {
   "cell_type": "markdown",
   "id": "c9d50dcd-23fa-4950-b22f-507906286c09",
   "metadata": {},
   "source": [
    "~A title was not necessary~ <br>\n",
    "1. Eggs\n",
    "1. Milk\n",
    "1. Bread\n",
    "1. Chicken \n",
    "* Statistics\n",
    "* Mathematics\n",
    "* Database Management\n",
    "* Data Science\n"
   ]
  },
  {
   "cell_type": "code",
   "execution_count": null,
   "id": "1bfe0af1-aadb-426d-adc2-5658743b18b3",
   "metadata": {},
   "outputs": [],
   "source": []
  }
 ],
 "metadata": {
  "kernelspec": {
   "display_name": "Julia 1.1.1",
   "language": "julia",
   "name": "conda-env-julia-julia-1.1"
  },
  "language_info": {
   "file_extension": ".jl",
   "mimetype": "application/julia",
   "name": "julia",
   "version": "1.1.1"
  }
 },
 "nbformat": 4,
 "nbformat_minor": 5
}
